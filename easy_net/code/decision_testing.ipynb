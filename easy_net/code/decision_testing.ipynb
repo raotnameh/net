{
 "cells": [
  {
   "cell_type": "code",
   "execution_count": 1,
   "metadata": {},
   "outputs": [],
   "source": [
    "import numpy as np\n",
    "import argparse\n",
    "import os\n",
    "import json\n",
    "import os\n",
    "\n",
    "import torch.nn as nn\n",
    "import torch.optim as optim\n",
    "from torch.utils.data import DataLoader\n",
    "from torchsummary import summary\n",
    "from time import time\n",
    "\n",
    "from utils import *\n",
    "from data import input_data\n",
    "from model import *"
   ]
  },
  {
   "cell_type": "code",
   "execution_count": 2,
   "metadata": {},
   "outputs": [
    {
     "name": "stdout",
     "output_type": "stream",
     "text": [
      "total number of classes in valid are :  10\n",
      "size of data 996\n"
     ]
    }
   ],
   "source": [
    "input_valid = input_data(root_dir = \"/home/hemant/net/easy_net/data/test/\", type = \"valid\")\n",
    "valid_dl =  DataLoader(input_valid, batch_size=16,shuffle=False, num_workers=4)"
   ]
  },
  {
   "cell_type": "code",
   "execution_count": 3,
   "metadata": {},
   "outputs": [
    {
     "name": "stdout",
     "output_type": "stream",
     "text": [
      "pre-trained weights are used\n"
     ]
    }
   ],
   "source": [
    "feature_1 = feature_b()\n",
    "feature_2 = feature_r()\n",
    "decision_ = decision(out_classes = input_valid[0][3])\n",
    "models = [feature_1, feature_2, decision_]\n",
    "\n",
    "device = torch.device(\"cuda:1\")\n",
    "try:\n",
    "    print(\"pre-trained weights are used\")\n",
    "    feature_1.load_state_dict(torch.load(\"../weights/feature_1.pth\",map_location=\"cuda:\"+str(1)), strict = True)\n",
    "    feature_2.load_state_dict(torch.load(\"../weights/feature_2.pth\",map_location=\"cuda:\"+str(1)), strict = True)\n",
    "    decision_.load_state_dict(torch.load(\"../weights/decision.pth\",map_location=\"cuda:\"+str(1)), strict = True)\n",
    "except: pass\n",
    "\n",
    "feature_1.to(device)\n",
    "feature_2.to(device)\n",
    "decision_.to(device)\n",
    "\n",
    "criterion_d = nn.CrossEntropyLoss()"
   ]
  },
  {
   "cell_type": "code",
   "execution_count": 4,
   "metadata": {
    "scrolled": true
   },
   "outputs": [
    {
     "name": "stdout",
     "output_type": "stream",
     "text": [
      "val\n",
      "val\n",
      "val\n",
      "val\n",
      "val\n",
      "val\n",
      "val\n",
      "val\n",
      "val\n",
      "val\n",
      "val\n",
      "val\n",
      "val\n",
      "val\n",
      "val\n",
      "val\n",
      "val\n",
      "val\n",
      "val\n",
      "val\n",
      "val\n",
      "val\n",
      "val\n",
      "val\n",
      "val\n",
      "val\n",
      "val\n",
      "val\n",
      "val\n",
      "val\n",
      "val\n",
      "val\n",
      "val\n",
      "val\n",
      "val\n",
      "val\n",
      "val\n",
      "val\n",
      "val\n",
      "val\n",
      "val\n",
      "val\n",
      "val\n",
      "val\n",
      "val\n",
      "val\n",
      "val\n",
      "val\n",
      "val\n",
      "val\n",
      "val\n",
      "val\n",
      "val\n",
      "val\n",
      "val\n",
      "val\n",
      "val\n",
      "val\n",
      "val\n",
      "val\n",
      "val\n",
      "val\n",
      "val\n",
      "accuracy and val loss is :  10.040160642570282 , 3.6539517141157583  --AND--   It took :  12.650285720825195  seconds \n",
      "validation the model switched  0.0  % times in the previous epoch\n"
     ]
    }
   ],
   "source": [
    "# Validation\n",
    "running_loss = 0\n",
    "acc = 0\n",
    "num = 0\n",
    "length = 0\n",
    "switch_ = 0\n",
    "with torch.no_grad():\n",
    "    start = time()\n",
    "    for i, data in enumerate(valid_dl, 0):\n",
    "        for j in models:\n",
    "            j.eval()\n",
    "\n",
    "        input, target, img_name, number_of_class = data\n",
    "        input, target = (input.type(torch.float32)).to(device), target.to(device)\n",
    "\n",
    "        out_1 = feature_1(input)\n",
    "        out = decision_(out_1)\n",
    "\n",
    "        if switch(out,0.55) == True:\n",
    "            switch_ +=1\n",
    "            out_2 = feature_2(out_1)\n",
    "            out = decision_(out_2)\n",
    "\n",
    "        loss = criterion_d(out, target)\n",
    "        running_loss += loss.item()\n",
    "\n",
    "        out , predicted = torch.max(out, 1)\n",
    "        for k in range(len(target)):\n",
    "            if target[k] == predicted[k].item():\n",
    "                num = num + 1\n",
    "        length = length + len(target)\n",
    "    acc = (num/length)*100\n",
    "    end = time()\n",
    "    print(\"accuracy and val loss is : \",acc,\",\",running_loss/i, \" --AND-- \", \" It took : \", (end - start), \" seconds \")\n",
    "    print(\"validation the model switched \",(switch_/(i+1))*100, \" % times in the previous epoch\")"
   ]
  },
  {
   "cell_type": "code",
   "execution_count": null,
   "metadata": {},
   "outputs": [],
   "source": []
  },
  {
   "cell_type": "code",
   "execution_count": null,
   "metadata": {},
   "outputs": [],
   "source": []
  },
  {
   "cell_type": "code",
   "execution_count": null,
   "metadata": {},
   "outputs": [],
   "source": []
  }
 ],
 "metadata": {
  "kernelspec": {
   "display_name": "Python 3",
   "language": "python",
   "name": "python3"
  },
  "language_info": {
   "codemirror_mode": {
    "name": "ipython",
    "version": 3
   },
   "file_extension": ".py",
   "mimetype": "text/x-python",
   "name": "python",
   "nbconvert_exporter": "python",
   "pygments_lexer": "ipython3",
   "version": "3.6.3"
  }
 },
 "nbformat": 4,
 "nbformat_minor": 2
}
