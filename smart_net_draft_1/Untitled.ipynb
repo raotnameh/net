{
 "cells": [
  {
   "cell_type": "code",
   "execution_count": 1,
   "metadata": {},
   "outputs": [],
   "source": [
    "import numpy as np\n",
    "import torch\n",
    "import torch.nn as nn"
   ]
  },
  {
   "cell_type": "code",
   "execution_count": 2,
   "metadata": {},
   "outputs": [],
   "source": [
    "from torchsummary import summary\n",
    "from torchvision import models"
   ]
  },
  {
   "cell_type": "code",
   "execution_count": 3,
   "metadata": {
    "scrolled": true
   },
   "outputs": [],
   "source": [
    "model = models.vgg16(pretrained=False)"
   ]
  },
  {
   "cell_type": "code",
   "execution_count": 4,
   "metadata": {},
   "outputs": [],
   "source": [
    "model.classifier = nn.Sequential(nn.Linear(in_features=25088, out_features=4096, bias=True),\n",
    "              nn.ReLU(inplace=True),\n",
    "              nn.Dropout(p=0.5, inplace=False),\n",
    "              nn.Linear(in_features=4096, out_features=4096, bias=True),\n",
    "              nn.ReLU(inplace=True),\n",
    "              nn.Dropout(p=0.5, inplace=False),\n",
    "              nn.Linear(in_features=4096, out_features=99, bias=True)\n",
    "             )"
   ]
  },
  {
   "cell_type": "code",
   "execution_count": 5,
   "metadata": {},
   "outputs": [],
   "source": [
    "import torch.optim as optim\n",
    "from torch.utils.data import DataLoader\n",
    "import os\n",
    "from utils import get_param_size\n",
    "from draft_data import input_data\n",
    "from time import time"
   ]
  },
  {
   "cell_type": "code",
   "execution_count": 6,
   "metadata": {},
   "outputs": [
    {
     "name": "stdout",
     "output_type": "stream",
     "text": [
      "no of parameters:  (134.666147, ' Million')\n"
     ]
    }
   ],
   "source": [
    "device = torch.device(\"cpu\" )\n",
    "model.to(device)\n",
    "print(\"no of parameters: \", (get_param_size(model)/1000000, \" Million\"))\n",
    "criterion = nn.CrossEntropyLoss()\n",
    "optimizer = optim.Adam(model.parameters(), lr=0.001) "
   ]
  },
  {
   "cell_type": "code",
   "execution_count": 7,
   "metadata": {},
   "outputs": [
    {
     "name": "stdout",
     "output_type": "stream",
     "text": [
      "total number of classes are :train 99\n",
      "size of data 9772\n",
      "total number of classes are :valid 99\n",
      "size of data 9772\n"
     ]
    }
   ],
   "source": [
    "input_train = input_data(root_dir = \"/media/data_dump/hemant/data/image_net/val/\", type = \"train\")\n",
    "train_dl =  DataLoader(input_train, batch_size=12,shuffle=True, num_workers=4)\n",
    "\n",
    "input_valid = input_data(root_dir = \"/media/data_dump/hemant/data/image_net/val/\", type = \"valid\")\n",
    "valid_dl =  DataLoader(input_valid, batch_size=18,shuffle=False, num_workers=4)"
   ]
  },
  {
   "cell_type": "code",
   "execution_count": null,
   "metadata": {
    "scrolled": true
   },
   "outputs": [],
   "source": [
    "for j in range(1):\n",
    "    model.train()\n",
    "    running_loss = 0\n",
    "    m = 0\n",
    "    optimizer.zero_grad()\n",
    "    for i, data in enumerate(train_dl, 0):\n",
    "\n",
    "        input, target, img_name, number_of_class = data\n",
    "\n",
    "        input, target = (input.type(torch.float32)).to(device), target.to(device)\n",
    "\n",
    "        output = model(input)\n",
    "\n",
    "        loss = criterion(output, target)\n",
    "        running_loss += loss.item()\n",
    "        \n",
    "        loss.backward()\n",
    "\n",
    "        if i % 50 == 49: # print every 50 mini-batches\t\n",
    "            print('[%d, %5d] dumb_loss: %.3f' %(j + 1, i + 1, running_loss ))\n",
    "            running_loss = 0\n",
    "\n",
    "        optimizer.step()\n",
    "        optimizer.zero_grad()"
   ]
  },
  {
   "cell_type": "code",
   "execution_count": null,
   "metadata": {},
   "outputs": [],
   "source": [
    "len(valid_dl)"
   ]
  },
  {
   "cell_type": "code",
   "execution_count": null,
   "metadata": {
    "scrolled": true
   },
   "outputs": [],
   "source": [
    "def vall():\n",
    "    accuracy = 0\n",
    "    with torch.no_grad():\n",
    "        num = 0\n",
    "        length = 0\n",
    "        start = time()\n",
    "        for i, data in enumerate(valid_dl, 0):\t\n",
    "            model.eval()\n",
    "            input, target, img_name, number_of_class = data\n",
    "            input= (input.type(torch.float32)).to(device)\n",
    "\n",
    "            output = model(input)\n",
    "            out , predicted = torch.max(output, 1)\n",
    "\n",
    "            if i % 25 == 24: # print every 25 mini-batches\t\n",
    "                print(i)\n",
    "\n",
    "            for i in range(len(target)):\n",
    "                if target[i] == predicted[i].item():\n",
    "                    num = num + 1\n",
    "            length = length + len(target)\n",
    "        accuracy = (num/length)*100\n",
    "        end = time()\n",
    "    print(\"accuracy is : \",accuracy, \" AND \", \" It took : \", (end - start), \" seconds \")\n",
    "torch.save(model.state_dict(),\"/home/hemant/nips/model_layers\"+\"_\" + str(accuracy) + \"_nips.pth\")"
   ]
  },
  {
   "cell_type": "code",
   "execution_count": null,
   "metadata": {},
   "outputs": [],
   "source": [
    "vall()"
   ]
  },
  {
   "cell_type": "code",
   "execution_count": null,
   "metadata": {},
   "outputs": [],
   "source": [
    "a = nn.Sequential(conv_layer(256, 256, kernel_size = 3, stride = (1,1), padding = 1),nn.Dropout(0.5))\n",
    "b = []\n",
    "b.append((\"1\",a))"
   ]
  },
  {
   "cell_type": "code",
   "execution_count": null,
   "metadata": {},
   "outputs": [],
   "source": []
  },
  {
   "cell_type": "code",
   "execution_count": null,
   "metadata": {},
   "outputs": [],
   "source": [
    "a"
   ]
  },
  {
   "cell_type": "code",
   "execution_count": null,
   "metadata": {},
   "outputs": [],
   "source": []
  },
  {
   "cell_type": "code",
   "execution_count": null,
   "metadata": {},
   "outputs": [],
   "source": [
    "\n",
    "\n",
    "from utils import conv_layer, get_param_size"
   ]
  },
  {
   "cell_type": "code",
   "execution_count": null,
   "metadata": {},
   "outputs": [],
   "source": []
  }
 ],
 "metadata": {
  "kernelspec": {
   "display_name": "Python 3",
   "language": "python",
   "name": "python3"
  },
  "language_info": {
   "codemirror_mode": {
    "name": "ipython",
    "version": 3
   },
   "file_extension": ".py",
   "mimetype": "text/x-python",
   "name": "python",
   "nbconvert_exporter": "python",
   "pygments_lexer": "ipython3",
   "version": "3.6.3"
  }
 },
 "nbformat": 4,
 "nbformat_minor": 2
}
